{
 "cells": [
  {
   "cell_type": "code",
   "execution_count": null,
   "metadata": {},
   "outputs": [],
   "source": [
    "from pathlib import Path\n",
    "import numpy as np\n",
    "\n",
    "def eval(p):\n",
    "    print(Path(p).parents[1].name)\n",
    "    d = np.load(p, allow_pickle=True, encoding='latin1').item()\n",
    "    print(np.median(np.concatenate(d['computed_distances'])))\n",
    "    print(np.mean(np.concatenate(d['computed_distances'])))\n",
    "\n",
    "\n",
    "for preds_dir in Path('/data22tb0/NoW_Evaluation/preds/').iterdir():\n",
    "    if preds_dir.is_dir():\n",
    "        p = preds_dir / 'results' / 'RECON_computed_distances.npy'\n",
    "        if p.exists():\n",
    "            eval(p)\n",
    "            print()\n",
    "        else:\n",
    "            print(f'{preds_dir.name} not found')"
   ]
  },
  {
   "cell_type": "code",
   "execution_count": null,
   "metadata": {},
   "outputs": [],
   "source": []
  }
 ],
 "metadata": {
  "kernelspec": {
   "display_name": "landmarks2flame_cuda12.1",
   "language": "python",
   "name": "python3"
  },
  "language_info": {
   "codemirror_mode": {
    "name": "ipython",
    "version": 3
   },
   "file_extension": ".py",
   "mimetype": "text/x-python",
   "name": "python",
   "nbconvert_exporter": "python",
   "pygments_lexer": "ipython3",
   "version": "3.11.10"
  }
 },
 "nbformat": 4,
 "nbformat_minor": 2
}
